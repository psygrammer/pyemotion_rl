{
  "nbformat": 4,
  "nbformat_minor": 0,
  "metadata": {
    "colab": {
      "name": "dqn_pytorch.ipynb",
      "provenance": [],
      "authorship_tag": "ABX9TyNwuH2KeRtAHfXU8UWF0CGD",
      "include_colab_link": true
    },
    "kernelspec": {
      "name": "python3",
      "display_name": "Python 3"
    },
    "language_info": {
      "name": "python"
    }
  },
  "cells": [
    {
      "cell_type": "markdown",
      "metadata": {
        "id": "view-in-github",
        "colab_type": "text"
      },
      "source": [
        "<a href=\"https://colab.research.google.com/github/GreenD93/pyemotion_rl/blob/master/my_examples/yg_examples/DeepRLBook/Chapter06/dqn_pytorch.ipynb\" target=\"_parent\"><img src=\"https://colab.research.google.com/assets/colab-badge.svg\" alt=\"Open In Colab\"/></a>"
      ]
    },
    {
      "cell_type": "code",
      "metadata": {
        "id": "Gp2dpRFqT2W7",
        "outputId": "740aedfa-354f-4e16-db29-2f221c741530",
        "colab": {
          "base_uri": "https://localhost:8080/"
        }
      },
      "source": [
        "!git clone https://github.com/psygrammer/pyemotion_rl.git"
      ],
      "execution_count": 1,
      "outputs": [
        {
          "output_type": "stream",
          "text": [
            "Cloning into 'pyemotion_rl'...\n",
            "remote: Enumerating objects: 311, done.\u001b[K\n",
            "remote: Counting objects: 100% (311/311), done.\u001b[K\n",
            "remote: Compressing objects: 100% (246/246), done.\u001b[K\n",
            "remote: Total 311 (delta 114), reused 124 (delta 24), pack-reused 0\u001b[K\n",
            "Receiving objects: 100% (311/311), 16.58 MiB | 4.74 MiB/s, done.\n",
            "Resolving deltas: 100% (114/114), done.\n"
          ],
          "name": "stdout"
        }
      ]
    },
    {
      "cell_type": "code",
      "metadata": {
        "id": "GdNKgKCBYBmk"
      },
      "source": [
        "class Data:\n",
        "    def __init__(self):\n",
        "        pass\n",
        "    def sample(self):\n",
        "        return 0\n",
        "\n",
        "class Env:\n",
        "\n",
        "    ovservation_space = Data()\n",
        "    action_space = Data()\n",
        "\n",
        "    def __init__(self):\n",
        "        pass\n"
      ],
      "execution_count": 34,
      "outputs": []
    },
    {
      "cell_type": "code",
      "metadata": {
        "id": "6n7EFJ2YXLwl"
      },
      "source": [
        "class DQN():\n",
        "    def __init__(self):\n",
        "        pass"
      ],
      "execution_count": 35,
      "outputs": []
    },
    {
      "cell_type": "code",
      "metadata": {
        "id": "5tXyeufxXIqI"
      },
      "source": [
        "net = DQN()"
      ],
      "execution_count": 36,
      "outputs": []
    },
    {
      "cell_type": "code",
      "metadata": {
        "id": "cTX2yEaeWlLt"
      },
      "source": [
        "class Agent:\n",
        "    def __init__(self, env):\n",
        "        self.env = env\n",
        "        pass\n",
        "\n",
        "    def play_step(self, net, epsilon, device):\n",
        "        reward = 0\n",
        "        action = self.env.action_space.sample()\n",
        "        print(action)        \n",
        "        obs = self.env.ovservation_space.sample()\n",
        "        print(obs)\n",
        "        \n",
        "        return reward"
      ],
      "execution_count": 37,
      "outputs": []
    },
    {
      "cell_type": "code",
      "metadata": {
        "id": "bn7W_U5pW4qx"
      },
      "source": [
        "env = Env()\n",
        "agent = Agent(env)"
      ],
      "execution_count": 38,
      "outputs": []
    },
    {
      "cell_type": "code",
      "metadata": {
        "id": "GgiE8pfxXS0Q"
      },
      "source": [
        "epsilon = 0\n",
        "device = 0"
      ],
      "execution_count": 39,
      "outputs": []
    },
    {
      "cell_type": "code",
      "metadata": {
        "id": "lWlNxXXiW4sv",
        "outputId": "0327858f-1fb3-4569-cc81-296d9cf5f1a1",
        "colab": {
          "base_uri": "https://localhost:8080/"
        }
      },
      "source": [
        "reward = agent.play_step(net, epsilon, device=device)"
      ],
      "execution_count": 40,
      "outputs": [
        {
          "output_type": "stream",
          "text": [
            "0\n",
            "0\n"
          ],
          "name": "stdout"
        }
      ]
    }
  ]
}