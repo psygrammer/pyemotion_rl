{
  "nbformat": 4,
  "nbformat_minor": 0,
  "metadata": {
    "colab": {
      "name": "07_higer_level_rl_lib.ipynb",
      "provenance": [],
      "authorship_tag": "ABX9TyOa4+pXDKe16L2lqkGeuVJw",
      "include_colab_link": true
    },
    "kernelspec": {
      "name": "python3",
      "display_name": "Python 3"
    },
    "language_info": {
      "name": "python"
    }
  },
  "cells": [
    {
      "cell_type": "markdown",
      "metadata": {
        "id": "view-in-github",
        "colab_type": "text"
      },
      "source": [
        "<a href=\"https://colab.research.google.com/github/psygrammer/pyemotion_rl/blob/master/examples/ch07_higer_level_rl_lib/07_higer_level_rl_lib.ipynb\" target=\"_parent\"><img src=\"https://colab.research.google.com/assets/colab-badge.svg\" alt=\"Open In Colab\"/></a>"
      ]
    },
    {
      "cell_type": "code",
      "metadata": {
        "id": "apS7osjaE9PC"
      },
      "source": [
        ""
      ],
      "execution_count": null,
      "outputs": []
    },
    {
      "cell_type": "code",
      "metadata": {
        "colab": {
          "base_uri": "https://localhost:8080/"
        },
        "id": "w7yK1cFxGUMI",
        "outputId": "3c6e822d-053d-41ee-85e6-ca039f68bcd9"
      },
      "source": [
        "!pip install ptan==0.6"
      ],
      "execution_count": 1,
      "outputs": [
        {
          "output_type": "stream",
          "text": [
            "Collecting ptan==0.6\n",
            "  Downloading https://files.pythonhosted.org/packages/91/cb/57f6d86625f2b24c008b0524ca29559683aa75d00afa38b6b44d7fcad25b/ptan-0.6.tar.gz\n",
            "Collecting torch==1.3.0\n",
            "\u001b[?25l  Downloading https://files.pythonhosted.org/packages/b4/0b/9d33aef363b6728ad937643d98be713c6c25d50ce338678ad57cee6e6fd5/torch-1.3.0-cp37-cp37m-manylinux1_x86_64.whl (773.1MB)\n",
            "\u001b[K     |████████████████████████████████| 773.1MB 22kB/s \n",
            "\u001b[?25hRequirement already satisfied: gym in /usr/local/lib/python3.7/dist-packages (from ptan==0.6) (0.17.3)\n",
            "Requirement already satisfied: atari-py in /usr/local/lib/python3.7/dist-packages (from ptan==0.6) (0.2.6)\n",
            "Requirement already satisfied: numpy in /usr/local/lib/python3.7/dist-packages (from ptan==0.6) (1.19.5)\n",
            "Requirement already satisfied: opencv-python in /usr/local/lib/python3.7/dist-packages (from ptan==0.6) (4.1.2.30)\n",
            "Requirement already satisfied: scipy in /usr/local/lib/python3.7/dist-packages (from gym->ptan==0.6) (1.4.1)\n",
            "Requirement already satisfied: pyglet<=1.5.0,>=1.4.0 in /usr/local/lib/python3.7/dist-packages (from gym->ptan==0.6) (1.5.0)\n",
            "Requirement already satisfied: cloudpickle<1.7.0,>=1.2.0 in /usr/local/lib/python3.7/dist-packages (from gym->ptan==0.6) (1.3.0)\n",
            "Requirement already satisfied: six in /usr/local/lib/python3.7/dist-packages (from atari-py->ptan==0.6) (1.15.0)\n",
            "Requirement already satisfied: future in /usr/local/lib/python3.7/dist-packages (from pyglet<=1.5.0,>=1.4.0->gym->ptan==0.6) (0.16.0)\n",
            "Building wheels for collected packages: ptan\n",
            "  Building wheel for ptan (setup.py) ... \u001b[?25l\u001b[?25hdone\n",
            "  Created wheel for ptan: filename=ptan-0.6-cp37-none-any.whl size=23502 sha256=42491563fe468b6d77c1db44554046edb133f494ca2827e3348e057a1b9cb909\n",
            "  Stored in directory: /root/.cache/pip/wheels/f0/4b/2f/9a45fd39b0a614a2716bc6128a7f1adb4647f323a2d90783f2\n",
            "Successfully built ptan\n",
            "\u001b[31mERROR: torchvision 0.9.1+cu101 has requirement torch==1.8.1, but you'll have torch 1.3.0 which is incompatible.\u001b[0m\n",
            "\u001b[31mERROR: torchtext 0.9.1 has requirement torch==1.8.1, but you'll have torch 1.3.0 which is incompatible.\u001b[0m\n",
            "Installing collected packages: torch, ptan\n",
            "  Found existing installation: torch 1.8.1+cu101\n",
            "    Uninstalling torch-1.8.1+cu101:\n",
            "      Successfully uninstalled torch-1.8.1+cu101\n",
            "Successfully installed ptan-0.6 torch-1.3.0\n"
          ],
          "name": "stdout"
        }
      ]
    },
    {
      "cell_type": "code",
      "metadata": {
        "id": "4AamKpnXHuP2"
      },
      "source": [
        "import torch\n",
        "import torch.nn as nn"
      ],
      "execution_count": 20,
      "outputs": []
    },
    {
      "cell_type": "code",
      "metadata": {
        "id": "nUujdN31GXHo"
      },
      "source": [
        ""
      ],
      "execution_count": null,
      "outputs": []
    },
    {
      "cell_type": "markdown",
      "metadata": {
        "id": "qmdtW_FBGdBD"
      },
      "source": [
        "# Action selectors"
      ]
    },
    {
      "cell_type": "code",
      "metadata": {
        "id": "r7hiHkwDHCv7"
      },
      "source": [
        "# All the classes assume that NumPy arrays will be passed to them. The complete example from this section can be found in Chapter07/01_actions.py."
      ],
      "execution_count": null,
      "outputs": []
    },
    {
      "cell_type": "code",
      "metadata": {
        "id": "KRL_x49EGejM"
      },
      "source": [
        "import numpy as np"
      ],
      "execution_count": 4,
      "outputs": []
    },
    {
      "cell_type": "code",
      "metadata": {
        "id": "15-XNYmbGgmc"
      },
      "source": [
        "import ptan"
      ],
      "execution_count": 5,
      "outputs": []
    },
    {
      "cell_type": "code",
      "metadata": {
        "id": "aza9H6YOGh-J"
      },
      "source": [
        "q_vals = np.array([[1, 2, 3], [1, -1, 0]])"
      ],
      "execution_count": 6,
      "outputs": []
    },
    {
      "cell_type": "code",
      "metadata": {
        "colab": {
          "base_uri": "https://localhost:8080/"
        },
        "id": "L3CRKOPFGlJK",
        "outputId": "ee1fc253-a44b-4d76-8459-3ad0bf75cd60"
      },
      "source": [
        "q_vals"
      ],
      "execution_count": 7,
      "outputs": [
        {
          "output_type": "execute_result",
          "data": {
            "text/plain": [
              "array([[ 1,  2,  3],\n",
              "       [ 1, -1,  0]])"
            ]
          },
          "metadata": {
            "tags": []
          },
          "execution_count": 7
        }
      ]
    },
    {
      "cell_type": "code",
      "metadata": {
        "id": "zp-_XefbGpMO"
      },
      "source": [
        "selector = ptan.actions.ArgmaxActionSelector()"
      ],
      "execution_count": 8,
      "outputs": []
    },
    {
      "cell_type": "code",
      "metadata": {
        "colab": {
          "base_uri": "https://localhost:8080/"
        },
        "id": "1aMT0y_dGrVO",
        "outputId": "2b4098dc-8d47-4ff7-f6b2-367a638e4755"
      },
      "source": [
        "selector(q_vals)"
      ],
      "execution_count": 9,
      "outputs": [
        {
          "output_type": "execute_result",
          "data": {
            "text/plain": [
              "array([2, 0])"
            ]
          },
          "metadata": {
            "tags": []
          },
          "execution_count": 9
        }
      ]
    },
    {
      "cell_type": "code",
      "metadata": {
        "id": "RiTCwsRRGt4V"
      },
      "source": [
        "# As you can see, the selector returns indices of actions with the largest values."
      ],
      "execution_count": 10,
      "outputs": []
    },
    {
      "cell_type": "code",
      "metadata": {
        "id": "o2FxO4upGu2K"
      },
      "source": [
        "selector = ptan.actions.EpsilonGreedyActionSelector(epsilon=0.0)"
      ],
      "execution_count": 11,
      "outputs": []
    },
    {
      "cell_type": "code",
      "metadata": {
        "colab": {
          "base_uri": "https://localhost:8080/"
        },
        "id": "KvlqWhp3GwuR",
        "outputId": "48940708-1d6e-4b41-af6a-a55dccab94ad"
      },
      "source": [
        "selector(q_vals)"
      ],
      "execution_count": 12,
      "outputs": [
        {
          "output_type": "execute_result",
          "data": {
            "text/plain": [
              "array([2, 0])"
            ]
          },
          "metadata": {
            "tags": []
          },
          "execution_count": 12
        }
      ]
    },
    {
      "cell_type": "code",
      "metadata": {
        "id": "C0BRjqFDGyHP"
      },
      "source": [
        "# The result of the EpsilonGreedyActionSelector application is the same, as epsilon is 0.0, which means no random actions are taken. If we change epsilon to 1, actions will be random:"
      ],
      "execution_count": 13,
      "outputs": []
    },
    {
      "cell_type": "code",
      "metadata": {
        "id": "gXAAajmEGyaY"
      },
      "source": [
        "selector = ptan.actions.EpsilonGreedyActionSelector(epsilon=1.0)"
      ],
      "execution_count": 14,
      "outputs": []
    },
    {
      "cell_type": "code",
      "metadata": {
        "colab": {
          "base_uri": "https://localhost:8080/"
        },
        "id": "vn-UVbOiG2Ca",
        "outputId": "f1f87dea-af50-4dce-f80d-84959d936a03"
      },
      "source": [
        "selector(q_vals)"
      ],
      "execution_count": 15,
      "outputs": [
        {
          "output_type": "execute_result",
          "data": {
            "text/plain": [
              "array([1, 0])"
            ]
          },
          "metadata": {
            "tags": []
          },
          "execution_count": 15
        }
      ]
    },
    {
      "cell_type": "code",
      "metadata": {
        "id": "VTiGOrYMG4zb"
      },
      "source": [
        "# Working with ProbabilityActionSelector is the same, but the input needs to be a normalized probability distribution"
      ],
      "execution_count": 16,
      "outputs": []
    },
    {
      "cell_type": "code",
      "metadata": {
        "id": "M46yDd7JG45d"
      },
      "source": [
        "selector = ptan.actions.ProbabilityActionSelector()"
      ],
      "execution_count": 17,
      "outputs": []
    },
    {
      "cell_type": "code",
      "metadata": {
        "colab": {
          "base_uri": "https://localhost:8080/"
        },
        "id": "NjrniuXkHLhW",
        "outputId": "e3164f20-4e37-46a3-b5c5-8201df8af469"
      },
      "source": [
        "for _ in range(10):\n",
        "  acts = selector(np.array([\n",
        "    [0.1, 0.8, 0.1],\n",
        "    [0.0, 0.0, 1.0],\n",
        "    [0.5, 0.5, 0.0]]))\n",
        "\n",
        "  print(acts)"
      ],
      "execution_count": 18,
      "outputs": [
        {
          "output_type": "stream",
          "text": [
            "[1 2 1]\n",
            "[1 2 0]\n",
            "[2 2 0]\n",
            "[1 2 1]\n",
            "[1 2 1]\n",
            "[1 2 0]\n",
            "[1 2 1]\n",
            "[1 2 0]\n",
            "[1 2 1]\n",
            "[1 2 1]\n"
          ],
          "name": "stdout"
        }
      ]
    },
    {
      "cell_type": "code",
      "metadata": {
        "id": "jfh5MO1DHR7M"
      },
      "source": [
        ""
      ],
      "execution_count": null,
      "outputs": []
    },
    {
      "cell_type": "markdown",
      "metadata": {
        "id": "EocYkoCvHTjg"
      },
      "source": [
        "# The agent"
      ]
    },
    {
      "cell_type": "markdown",
      "metadata": {
        "id": "5beW8XSBHWnV"
      },
      "source": [
        "## DQNAgent"
      ]
    },
    {
      "cell_type": "code",
      "metadata": {
        "id": "GqMVOVmcHYYB"
      },
      "source": [
        "class DQNNet(nn.Module):\n",
        "  def __init__(self, actions: int):\n",
        "    super(DQNNet, self).__init__()\n",
        "    self.actions = actions\n",
        "       \n",
        "  def forward(self, x):\n",
        "    return torch.eye(x.size()[0], self.actions)"
      ],
      "execution_count": 21,
      "outputs": []
    },
    {
      "cell_type": "code",
      "metadata": {
        "id": "MeK3nWdkHmVS"
      },
      "source": [
        "# Once we have defined the above class, we can use it as a DQN model:"
      ],
      "execution_count": null,
      "outputs": []
    },
    {
      "cell_type": "code",
      "metadata": {
        "id": "jpMRM_w7HzKK"
      },
      "source": [
        "net = DQNNet(actions=3)"
      ],
      "execution_count": 22,
      "outputs": []
    },
    {
      "cell_type": "code",
      "metadata": {
        "colab": {
          "base_uri": "https://localhost:8080/"
        },
        "id": "eKc0GS4uIbkX",
        "outputId": "70524fc6-4f46-4c1c-db8e-e2b7722c15d7"
      },
      "source": [
        "net(torch.zeros(2, 10))"
      ],
      "execution_count": 23,
      "outputs": [
        {
          "output_type": "execute_result",
          "data": {
            "text/plain": [
              "tensor([[1., 0., 0.],\n",
              "        [0., 1., 0.]])"
            ]
          },
          "metadata": {
            "tags": []
          },
          "execution_count": 23
        }
      ]
    },
    {
      "cell_type": "code",
      "metadata": {
        "id": "ABTEiTycIdtt"
      },
      "source": [
        "# We start with the simple argmax policy, so the agent will always return actions corresponding to 1s in the network output."
      ],
      "execution_count": null,
      "outputs": []
    },
    {
      "cell_type": "code",
      "metadata": {
        "id": "iy42nDiWIi3y"
      },
      "source": [
        "selector = ptan.actions.ArgmaxActionSelector()"
      ],
      "execution_count": 24,
      "outputs": []
    },
    {
      "cell_type": "code",
      "metadata": {
        "id": "lVVu3OiiIks-"
      },
      "source": [
        "agent = ptan.agent.DQNAgent(dqn_model=net, action_selector=selector)"
      ],
      "execution_count": 25,
      "outputs": []
    },
    {
      "cell_type": "code",
      "metadata": {
        "colab": {
          "base_uri": "https://localhost:8080/"
        },
        "id": "eu_NZcvmInDv",
        "outputId": "09a428dd-adbd-4888-bd99-2f38c7b50ed7"
      },
      "source": [
        "agent(torch.zeros(2, 5))"
      ],
      "execution_count": 26,
      "outputs": [
        {
          "output_type": "execute_result",
          "data": {
            "text/plain": [
              "(array([0, 1]), [None, None])"
            ]
          },
          "metadata": {
            "tags": []
          },
          "execution_count": 26
        }
      ]
    },
    {
      "cell_type": "code",
      "metadata": {
        "id": "s2QExfD4IocK"
      },
      "source": [
        ""
      ],
      "execution_count": null,
      "outputs": []
    }
  ]
}